{
  "nbformat": 4,
  "nbformat_minor": 0,
  "metadata": {
    "colab": {
      "provenance": []
    },
    "kernelspec": {
      "name": "python3",
      "display_name": "Python 3"
    },
    "language_info": {
      "name": "python"
    }
  },
  "cells": [
    {
      "cell_type": "markdown",
      "source": [
        "Este programa, tem como objetivo, obter a solução do exemplo 4.2.2 do livro (Lewis; Nithiarasu;Seetharamu,2004), cujo título é: Fundamentals of the finite element method for heat and fluid flow.\n",
        "\n",
        "Sendo assim, teremos o seguinte,"
      ],
      "metadata": {
        "id": "ZczDVzv1oYG1"
      }
    },
    {
      "cell_type": "code",
      "execution_count": 44,
      "metadata": {
        "id": "TWepOl7goTlG"
      },
      "outputs": [],
      "source": [
        "# Importar a biblioteca do Firedrake.\n",
        "\n",
        "try:\n",
        "    import firedrake\n",
        "except ImportError:\n",
        "    !wget \"https://fem-on-colab.github.io/releases/firedrake-install-real.sh\" -O \"/tmp/firedrake-install.sh\" && bash \"/tmp/firedrake-install.sh\"\n",
        "    import firedrake"
      ]
    },
    {
      "cell_type": "code",
      "source": [
        "import os\n",
        "\n",
        "os.environ[\"OMP_NUM_THREADS\"] = \"1\" # Isso é solicitado no manual do Firedrake, para que o mesmo não apresente os alertas que poderão ocorrer com o OMP.\n"
      ],
      "metadata": {
        "id": "SGG_D3W_os6i"
      },
      "execution_count": 45,
      "outputs": []
    },
    {
      "cell_type": "code",
      "source": [
        "import matplotlib.pyplot as plt\n",
        "from firedrake import *\n",
        "import numpy as np"
      ],
      "metadata": {
        "id": "RYP1Av_UpUj5"
      },
      "execution_count": 46,
      "outputs": []
    },
    {
      "cell_type": "code",
      "source": [
        "num_elements = 4 # Quantidade de elementos\n",
        "malha = IntervalMesh(num_elements, 0, 0.03) # Armazenamento da malha unidimensional com os 4 elementos.\n",
        "x, = malha.coordinates # Definir x como coordenada da malha."
      ],
      "metadata": {
        "id": "hXO422VppewQ"
      },
      "execution_count": 47,
      "outputs": []
    },
    {
      "cell_type": "code",
      "source": [
        "grau = 1 # Grau do polinomio\n",
        "V = FunctionSpace(malha, \"CG\", grau) # \"CG\" denota os elementos finitos Lagrangeanos"
      ],
      "metadata": {
        "id": "OUW8rISLpqv3"
      },
      "execution_count": 48,
      "outputs": []
    },
    {
      "cell_type": "code",
      "source": [
        "u = TrialFunction(V)  # Funcao candidata a solucao\n",
        "v = TestFunction(V) # Funcao peso\n",
        "solution = Function(V) # Armazenamento da solucao do PV,"
      ],
      "metadata": {
        "id": "ueRrdNirqESm"
      },
      "execution_count": 49,
      "outputs": []
    },
    {
      "cell_type": "code",
      "source": [
        "# Implementação da formulação Variacional:\n",
        "\n",
        "A = Constant(1)\n",
        "G = Constant(0.3 * 10**6)\n",
        "k = Constant(21)\n",
        "\n",
        "a = k * A * inner(grad(u), grad(v)) * dx\n",
        "\n",
        "f = G * v * dx\n"
      ],
      "metadata": {
        "id": "5qIZcSMoq_HM"
      },
      "execution_count": 50,
      "outputs": []
    },
    {
      "cell_type": "code",
      "source": [
        "val = 40\n",
        "cd = DirichletBC(V, val, 2) # Contorno do lado direito descrito por 2"
      ],
      "metadata": {
        "id": "YuHJvaxFzezH"
      },
      "execution_count": 51,
      "outputs": []
    },
    {
      "cell_type": "code",
      "source": [
        "solver_parameters = {\n",
        "    \"ksp_type\": \"preonly\",\n",
        "    \"pc_type\": \"lu\" # Pre-condicionador LU.\n",
        "}"
      ],
      "metadata": {
        "id": "y72pyIRczxcG"
      },
      "execution_count": 52,
      "outputs": []
    },
    {
      "cell_type": "code",
      "source": [
        "problem = LinearVariationalProblem(a, f, solution, bcs = cd)\n",
        "\n",
        "solver = LinearVariationalSolver(problem, solver_parameters = solver_parameters)"
      ],
      "metadata": {
        "id": "9aSUnumK0A-l"
      },
      "execution_count": 53,
      "outputs": []
    },
    {
      "cell_type": "code",
      "source": [
        "solver.solve()"
      ],
      "metadata": {
        "id": "t70WDO1BxNLI"
      },
      "execution_count": 54,
      "outputs": []
    },
    {
      "cell_type": "code",
      "source": [
        "solution_values = assemble(solution).dat.data # Resultado escrito em vetor\n",
        "\n",
        "x_values = assemble(x).dat.data # Coordenadas da malha em vetor.\n",
        "\n",
        "print(solution_values)"
      ],
      "metadata": {
        "colab": {
          "base_uri": "https://localhost:8080/"
        },
        "id": "s6otn8bJ0RTF",
        "outputId": "6d933283-6f71-42c7-ebc4-d9048b32eeca"
      },
      "execution_count": 55,
      "outputs": [
        {
          "output_type": "stream",
          "name": "stdout",
          "text": [
            "[46.42857143 46.02678571 44.82142857 42.8125     40.        ]\n"
          ]
        }
      ]
    },
    {
      "cell_type": "code",
      "source": [
        "plt.figure(figsize = (7, 5))\n",
        "\n",
        "plt.plot(x_values, solution_values, \"-\", label = \"Solução do PV\")\n",
        "\n",
        "plt.grid()\n",
        "plt.legend(loc = \"best\")\n",
        "\n",
        "\n",
        "plt.xlabel(\"x\")\n",
        "plt.ylabel(\"Temperaturas\")\n",
        "\n",
        "plt.show()"
      ],
      "metadata": {
        "colab": {
          "base_uri": "https://localhost:8080/",
          "height": 465
        },
        "id": "VoMHRdYY1362",
        "outputId": "9c8b59d7-78c0-4619-b1b1-c1d7de6b9d30"
      },
      "execution_count": 56,
      "outputs": [
        {
          "output_type": "display_data",
          "data": {
            "text/plain": [
              "<Figure size 700x500 with 1 Axes>"
            ],
            "image/png": "[encoded data removed]"
          },
          "metadata": {}
        }
      ]
    }
  ]
}