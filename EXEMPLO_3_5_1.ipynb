{
  "cells": [
    {
      "cell_type": "markdown",
      "metadata": {
        "id": "E7Kpfp-89y2R"
      },
      "source": [
        "Este programa, visa reproduzir a solução do exemplo 3.5.1 do livro (Lewis; Nithiarasu;Seetharamu,2004), cujo título é: Fundamentals of the finite element method for heat and fluid flow.\n",
        "\n",
        "Sendo assim, é tomado que a temperatura da aleta é igual a 25°C. À vista disso, se a temperatura base for subitamente elevada para uma\n",
        "temperatura de 100°C, e é mantida nesse valor, é solicitado que seja determinado a distribuição de temperatura na aleta em relação ao tempo. Para isso, é assumido que a capacitade calorífica é 2.42 × 10⁶ W/m³ °C.\n",
        "\n",
        "Considere também que, o passo de tempo Δt = 0.1s. Desse modo, segue o programa."
      ]
    },
    {
      "cell_type": "code",
      "execution_count": 41,
      "metadata": {
        "id": "WAC3GAPn9f-6"
      },
      "outputs": [],
      "source": [
        "# Importar a biblioteca do Firedrake.\n",
        "\n",
        "try:\n",
        "    import firedrake\n",
        "except ImportError:\n",
        "    !wget \"https://fem-on-colab.github.io/releases/firedrake-install-real.sh\" -O \"/tmp/firedrake-install.sh\" && bash \"/tmp/firedrake-install.sh\"\n",
        "    import firedrake"
      ]
    },
    {
      "cell_type": "code",
      "execution_count": 42,
      "metadata": {
        "id": "5SV9Y9ADAoDc"
      },
      "outputs": [],
      "source": [
        "import os\n",
        "\n",
        "os.environ[\"OMP_NUM_THREADS\"] = \"1\" # Isso é solicitado no manual do Firedrake, para que o mesmo não apresente os alertas que poderão ocorrer com o OMP e a PETSc.\n"
      ]
    },
    {
      "cell_type": "code",
      "execution_count": 43,
      "metadata": {
        "id": "sOb2toOPAvUy"
      },
      "outputs": [],
      "source": [
        "import matplotlib.pyplot as plt\n",
        "from firedrake import *\n",
        "import numpy as np"
      ]
    },
    {
      "cell_type": "code",
      "execution_count": 44,
      "metadata": {
        "id": "WGp7fSWrBsd2"
      },
      "outputs": [],
      "source": [
        "# Para definição da malha com 1 elemento.\n",
        "\n",
        "num_elements = 1\n",
        "mesh = IntervalMesh(num_elements, 0.0, 0.02) # O domínio desta malha é [0, 0.02].\n",
        "x, = mesh.coordinates # Definir x como coordenada da malha."
      ]
    },
    {
      "cell_type": "code",
      "execution_count": 45,
      "metadata": {
        "id": "UzL7wFOlEg8z"
      },
      "outputs": [],
      "source": [
        "# Espaço de funções\n",
        "\n",
        "degree = 1 # Grau do polinômio;\n",
        "V = FunctionSpace(mesh, \"CG\", degree) # \"CG\" denota os elementos finitos Lagrangeanos."
      ]
    },
    {
      "cell_type": "code",
      "execution_count": 46,
      "metadata": {
        "id": "OvXJUazlkMKQ"
      },
      "outputs": [],
      "source": [
        "u = TrialFunction(V) # Função candidata à solução;\n",
        "v = TestFunction(V) # Função peso;\n",
        "solution = Function(V) # Esta é a variável que armazenará a solução do PV."
      ]
    },
    {
      "cell_type": "code",
      "execution_count": 47,
      "metadata": {
        "id": "1mULPBrDkZ83"
      },
      "outputs": [],
      "source": [
        "# Construção da formulação Variacional:\n",
        "\n",
        "k_x = Constant(200)\n",
        "G = Constant(0)\n",
        "T_a = Constant(25)\n",
        "q = Constant(0)\n",
        "h = Constant(120)\n",
        "P = Constant(0.01)\n",
        "A = Constant(0.000006)\n",
        "\n",
        "a = (k_x * A * inner(grad(u), grad(v)) * dx) + (h * P * inner(u, v) * dx)\n",
        "\n",
        "f = (G * A * v * dx) - (q * P * v * dx) + (h * T_a * P * v * dx)\n"
      ]
    },
    {
      "cell_type": "code",
      "execution_count": 48,
      "metadata": {
        "id": "UhrZAvH0uz5a"
      },
      "outputs": [],
      "source": [
        "# Tomaremos as condições de contorno:\n",
        "\n",
        "c0 = DirichletBC(V, 100, 1) # Condição de contorno do lado esquerdo, representado por 1;"
      ]
    },
    {
      "cell_type": "code",
      "execution_count": 49,
      "metadata": {
        "id": "wjVsLhtIu6zh"
      },
      "outputs": [],
      "source": [
        "# Solver\n",
        "\n",
        "solver_parameters = {\n",
        "    \"ksp_type\": \"preonly\",\n",
        "    \"pc_type\": \"lu\" # Pre-condicionador LU.\n",
        "}"
      ]
    },
    {
      "cell_type": "code",
      "execution_count": 50,
      "metadata": {
        "id": "Nch5B0gCyRgh"
      },
      "outputs": [],
      "source": [
        "problem = LinearVariationalProblem(a, f, solution, bcs = c0)\n",
        "\n",
        "solver = LinearVariationalSolver(problem, solver_parameters = solver_parameters)"
      ]
    },
    {
      "cell_type": "code",
      "source": [
        "solver.solve()"
      ],
      "metadata": {
        "id": "o_CxjCq1wRQo"
      },
      "execution_count": 51,
      "outputs": []
    },
    {
      "cell_type": "code",
      "execution_count": 52,
      "metadata": {
        "colab": {
          "base_uri": "https://localhost:8080/"
        },
        "id": "ks8LFOx4yVYA",
        "outputId": "b153213a-f702-436c-a06e-3236d9fd44d4"
      },
      "outputs": [
        {
          "output_type": "stream",
          "name": "stdout",
          "text": [
            "[100.          86.76470588]\n"
          ]
        }
      ],
      "source": [
        "solution_values = assemble(solution).dat.data # Resultado escrito em vetor\n",
        "\n",
        "x_values = assemble(x).dat.data # Coordenadas da malha em vetor.\n",
        "\n",
        "print(solution_values)"
      ]
    },
    {
      "cell_type": "code",
      "source": [
        "x_values = mesh.coordinates.vector().dat.data\n",
        "\n",
        "\n",
        "plt.figure(figsize = (7, 5))\n",
        "\n",
        "plt.plot(x_values, solution_values, \"-\", label = \"Solução do PV\")\n",
        "\n",
        "plt.grid()\n",
        "plt.legend(loc = \"best\")\n",
        "\n",
        "\n",
        "plt.xlabel(\"x\")\n",
        "plt.ylabel(\"Temperaturas\")\n",
        "\n",
        "plt.show()"
      ],
      "metadata": {
        "colab": {
          "base_uri": "https://localhost:8080/",
          "height": 465
        },
        "id": "8P-f720bQWtj",
        "outputId": "f9f57635-ec22-4132-d28e-b544c9b1123b"
      },
      "execution_count": 53,
      "outputs": [
        {
          "output_type": "display_data",
          "data": {
            "text/plain": [
              "<Figure size 700x500 with 1 Axes>"
            ],
            "image/png": "[encoded data removed]"
          },
          "metadata": {}
        }
      ]
    }
  ],
  "metadata": {
    "colab": {
      "provenance": []
    },
    "kernelspec": {
      "display_name": "Python 3",
      "name": "python3"
    },
    "language_info": {
      "name": "python"
    }
  },
  "nbformat": 4,
  "nbformat_minor": 0
}