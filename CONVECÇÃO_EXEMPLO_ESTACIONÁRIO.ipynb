{
  "nbformat": 4,
  "nbformat_minor": 0,
  "metadata": {
    "colab": {
      "provenance": []
    },
    "kernelspec": {
      "name": "python3",
      "display_name": "Python 3"
    },
    "language_info": {
      "name": "python"
    }
  },
  "cells": [
    {
      "cell_type": "markdown",
      "source": [
        "Este exemplo foi inspirado no exemplo 4.2.2 do livro (Lewis; Nithiarasu;Seetharamu,2004), cujo título é: Fundamentals of the finite element method for heat and fluid flow.\n",
        "\n",
        "O intuito aqui é ter conhecimento do comportamento de um problema com convecção e que seja estacionário."
      ],
      "metadata": {
        "id": "E0z8xPFsnf9M"
      }
    },
    {
      "cell_type": "code",
      "execution_count": 30,
      "metadata": {
        "id": "QAOM1e2jmQT5"
      },
      "outputs": [],
      "source": [
        "# Importar a biblioteca do Firedrake.\n",
        "\n",
        "try:\n",
        "    import firedrake\n",
        "except ImportError:\n",
        "    !wget \"https://fem-on-colab.github.io/releases/firedrake-install-real.sh\" -O \"/tmp/firedrake-install.sh\" && bash \"/tmp/firedrake-install.sh\"\n",
        "    import firedrake\n"
      ]
    },
    {
      "cell_type": "code",
      "source": [
        "import os\n",
        "\n",
        "os.environ[\"OMP_NUM_THREADS\"] = \"1\" # Isso é solicitado no manual do Firedrake, para que o mesmo não apresente os alertas que poderão ocorrer com o OMP.\n"
      ],
      "metadata": {
        "id": "4Jdddl9AnP97"
      },
      "execution_count": 31,
      "outputs": []
    },
    {
      "cell_type": "code",
      "source": [
        "import matplotlib.pyplot as plt\n",
        "from firedrake import *\n",
        "import numpy as np"
      ],
      "metadata": {
        "id": "ziZOMB8Suu5Q"
      },
      "execution_count": 32,
      "outputs": []
    },
    {
      "cell_type": "code",
      "source": [
        "num_elements = 10 # Quantidade de elementos que serão usadas nesta malha;\n",
        "mesh = UnitIntervalMesh(num_elements) # Armazenamento da malha unidimensional com os elementos definidos na variável num_elements.\n",
        "x, = mesh.coordinates # Definir x como coordenada da malha."
      ],
      "metadata": {
        "id": "5Z7feqWauzqe"
      },
      "execution_count": 33,
      "outputs": []
    },
    {
      "cell_type": "code",
      "source": [
        "degree = 1 # Grau do polinômio;\n",
        "V = FunctionSpace(mesh, \"CG\", degree) # \"CG\" denota os elementos finitos Lagrangeanos."
      ],
      "metadata": {
        "id": "5pkKM2nzh64g"
      },
      "execution_count": 34,
      "outputs": []
    },
    {
      "cell_type": "code",
      "source": [
        "u = TrialFunction(V) # Função candidata à solução;\n",
        "v = TestFunction(V) # Função peso;\n",
        "solution = Function(V) # Esta é a variável que armazenará a solução do PV."
      ],
      "metadata": {
        "id": "qaTL9qyFiDvv"
      },
      "execution_count": 35,
      "outputs": []
    },
    {
      "cell_type": "code",
      "source": [
        "# Definir as constantes que serão usadas no PV:\n",
        "\n",
        "A = Constant(1)\n",
        "k = Constant(0.01)\n",
        "b = Constant(2)\n",
        "G = Constant(0)\n",
        "\n",
        "a = (k * A * inner(grad(u), grad(v)) * dx) + (b * inner(grad(u)[0], v) * dx) # [0] denota o primeiro resultado de interesse.\n",
        "\n",
        "f = inner(G, v) * dx"
      ],
      "metadata": {
        "id": "qIHec4wciLV3"
      },
      "execution_count": 36,
      "outputs": []
    },
    {
      "cell_type": "code",
      "source": [
        "c0 = DirichletBC(V, 0, 1) # Condição de contorno do lado esquerdo, representado por 1;\n",
        "\n",
        "c1 = DirichletBC(V, 1, 2) # Condição de contorno do lado direito, representado por 2.\n"
      ],
      "metadata": {
        "id": "sqsfjSvJjj5l"
      },
      "execution_count": 37,
      "outputs": []
    },
    {
      "cell_type": "code",
      "source": [
        "# Solver\n",
        "\n",
        "solver_parameters = {\n",
        "    \"ksp_type\": \"preonly\",\n",
        "    \"pc_type\": \"lu\" # Pre-condicionador LU.\n",
        "}"
      ],
      "metadata": {
        "id": "cbUz911Pj9md"
      },
      "execution_count": 38,
      "outputs": []
    },
    {
      "cell_type": "code",
      "source": [
        "problem = LinearVariationalProblem(a, f, solution, bcs = [c0, c1])\n",
        "\n",
        "solver = LinearVariationalSolver(problem, solver_parameters = solver_parameters)"
      ],
      "metadata": {
        "id": "YPpUNPBekNqk"
      },
      "execution_count": 39,
      "outputs": []
    },
    {
      "cell_type": "code",
      "source": [
        "solver.solve()"
      ],
      "metadata": {
        "id": "_8TbsE9ukbeU"
      },
      "execution_count": 40,
      "outputs": []
    },
    {
      "cell_type": "code",
      "source": [
        "solution_values = assemble(solution).dat.data # Resultado escrito em vetor\n",
        "\n",
        "x_values = assemble(x).dat.data # Coordenadas da malha em vetor.\n",
        "\n",
        "print(solution_values)"
      ],
      "metadata": {
        "colab": {
          "base_uri": "https://localhost:8080/"
        },
        "id": "oRN5uZP6sc9x",
        "outputId": "5852b700-e3b5-40ac-fa23-891c677098fc"
      },
      "execution_count": 41,
      "outputs": [
        {
          "output_type": "stream",
          "name": "stdout",
          "text": [
            "[ 0.         -0.34513091  0.07669576 -0.43887016  0.19126596 -0.57890041\n",
            "  0.36241404 -0.7880814   0.6180797  -1.10056165  1.        ]\n"
          ]
        }
      ]
    },
    {
      "cell_type": "code",
      "source": [
        "plt.figure(figsize = (7, 5))\n",
        "\n",
        "plt.plot(x_values, solution_values, \"-\", label = \"Solução do PV\")\n",
        "\n",
        "plt.grid()\n",
        "plt.legend(loc = \"best\")\n",
        "\n",
        "plt.xlabel(\"x\")\n",
        "plt.ylabel(\"Valores\")\n",
        "\n",
        "plt.show()"
      ],
      "metadata": {
        "colab": {
          "base_uri": "https://localhost:8080/",
          "height": 465
        },
        "id": "g1OKd9_TlxBp",
        "outputId": "7992b1c2-6226-46d4-da7b-ea099a3bb6a3"
      },
      "execution_count": 42,
      "outputs": [
        {
          "output_type": "display_data",
          "data": {
            "text/plain": [
              "<Figure size 700x500 with 1 Axes>"
            ],
            "image/png": "[encoded data removed]"
          },
          "metadata": {}
        }
      ]
    }
  ]
}