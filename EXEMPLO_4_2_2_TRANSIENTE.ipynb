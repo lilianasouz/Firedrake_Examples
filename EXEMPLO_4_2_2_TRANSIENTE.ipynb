{
  "nbformat": 4,
  "nbformat_minor": 0,
  "metadata": {
    "colab": {
      "provenance": []
    },
    "kernelspec": {
      "name": "python3",
      "display_name": "Python 3"
    },
    "language_info": {
      "name": "python"
    }
  },
  "cells": [
    {
      "cell_type": "markdown",
      "source": [
        "\n",
        "Este exemplo foi inspirado no exemplo 4.2.2 do livro (Lewis; Nithiarasu;Seetharamu,2004), cujo título é: Fundamentals of the finite element method for heat and fluid flow.\n",
        "\n",
        "O intuito aqui é expor a implementação de um caso simples, que seja transiente.\n"
      ],
      "metadata": {
        "id": "ZzyP3DFTxhDQ"
      }
    },
    {
      "cell_type": "code",
      "execution_count": 291,
      "metadata": {
        "id": "aYb2aFFMRvHY"
      },
      "outputs": [],
      "source": [
        "# Importar a biblioteca do Firedrake.\n",
        "\n",
        "try:\n",
        "    import firedrake\n",
        "except ImportError:\n",
        "    !wget \"https://fem-on-colab.github.io/releases/firedrake-install-real.sh\" -O \"/tmp/firedrake-install.sh\" && bash \"/tmp/firedrake-install.sh\"\n",
        "    import firedrake\n"
      ]
    },
    {
      "cell_type": "code",
      "source": [
        "import os\n",
        "\n",
        "os.environ[\"OMP_NUM_THREADS\"] = \"1\" # Isso é solicitado no manual do Firedrake, para que o mesmo não apresente os alertas que poderão ocorrer com o OMP.\n"
      ],
      "metadata": {
        "id": "wuSIBFlBS6hW"
      },
      "execution_count": 292,
      "outputs": []
    },
    {
      "cell_type": "code",
      "source": [
        "import matplotlib.pyplot as plt\n",
        "from firedrake import *\n",
        "import numpy as np"
      ],
      "metadata": {
        "id": "gFh1kyMdTDb8"
      },
      "execution_count": 293,
      "outputs": []
    },
    {
      "cell_type": "code",
      "source": [
        "num_elements = 4 # Quantidade de elementos que serão usadas nesta malha;\n",
        "mesh = IntervalMesh(num_elements, 0.0, 0.03) # Armazenamento da malha unidimensional com os elementos definidos na variável num_elements.\n",
        "x, = mesh.coordinates # Definir x como coordenada da malha."
      ],
      "metadata": {
        "id": "vfbaAA_kTLgs"
      },
      "execution_count": 294,
      "outputs": []
    },
    {
      "cell_type": "code",
      "source": [
        "degree = 1 # Grau do polinômio;\n",
        "V = FunctionSpace(mesh, \"CG\", degree) # \"CG\" denota os elementos finitos Lagrangeanos."
      ],
      "metadata": {
        "id": "vs4njBG0T5OD"
      },
      "execution_count": 295,
      "outputs": []
    },
    {
      "cell_type": "code",
      "source": [
        "u_new = Function(V)\n",
        "\n",
        "u_old = Function(V)\n",
        "\n",
        "v = TestFunction(V) # Função peso;\n"
      ],
      "metadata": {
        "id": "iwhoaSyGUGa6"
      },
      "execution_count": 296,
      "outputs": []
    },
    {
      "cell_type": "code",
      "source": [
        "# Evolução Temporal:\n",
        "\n",
        "Dt = 0.01"
      ],
      "metadata": {
        "id": "audFhQ0u1hQd"
      },
      "execution_count": 297,
      "outputs": []
    },
    {
      "cell_type": "code",
      "source": [
        "# Definir as constantes que serão usadas no PV:\n",
        "\n",
        "k = Constant(21)\n",
        "G = Constant(0.3 * 10**6)\n",
        "A = Constant(1)\n",
        "dt = Constant(Dt)\n",
        "\n",
        "a = (inner(1/dt * (u_new - u_old), v) * dx) +  (k * A * inner(grad(u_new), grad(v))) * dx - (G * v * dx)"
      ],
      "metadata": {
        "id": "bEgJ8uoJV3pG"
      },
      "execution_count": 298,
      "outputs": []
    },
    {
      "cell_type": "code",
      "source": [
        "c1 = DirichletBC(V, 40, 2) # Condição de contorno do lado direito, representado por 2."
      ],
      "metadata": {
        "id": "cFBz-E8j0u0S"
      },
      "execution_count": 299,
      "outputs": []
    },
    {
      "cell_type": "code",
      "source": [
        "# Para a inicialização do Solver, temos:\n",
        "\n",
        "solver_parameters = {\n",
        "    'mat_type': 'aij',\n",
        "    'snes_type': 'newtonls', # Define um método não-linear.\n",
        "    \"pc_type\": \"lu\"\n",
        "}"
      ],
      "metadata": {
        "id": "uEb44gNm2dWL"
      },
      "execution_count": 300,
      "outputs": []
    },
    {
      "cell_type": "code",
      "source": [
        "problem = NonlinearVariationalProblem(a, u_new, bcs = c1)\n",
        "\n",
        "solver = NonlinearVariationalSolver(problem, solver_parameters=solver_parameters)"
      ],
      "metadata": {
        "id": "e0wP6wRo2fhZ"
      },
      "execution_count": 301,
      "outputs": []
    },
    {
      "cell_type": "code",
      "source": [
        "i = 0\n",
        "t = 0\n",
        "Total_time = 1\n",
        "solution_values = [] # Lista para receber os resultados que estarão na variável solution.\n",
        "\n",
        "norma = 1 # Qualquer valor maior que a tolerância\n",
        "\n",
        "tolerance = 1.e-3\n",
        "\n",
        "while t < Total_time and norma > tolerance:\n",
        "  print(f'{i}\\t= Passo de tempo')\n",
        "\n",
        "  solver.solve()\n",
        "\n",
        "  norma = norm(u_new - u_old)\n",
        "\n",
        "  u_old.assign(u_new) # Atualiza u_old com o novo;\n",
        "\n",
        "  i += 1\n",
        "\n",
        "  t += Dt # próxima iteração\n",
        "\n",
        "solution_values.append(assemble(u_new).dat.data) # Resultado do PV convergido adicionado na lista."
      ],
      "metadata": {
        "id": "iUEtQ9NDW0AE",
        "colab": {
          "base_uri": "https://localhost:8080/"
        },
        "outputId": "9f41ead2-fd73-4bdf-d081-49a2a2f9d821"
      },
      "execution_count": 302,
      "outputs": [
        {
          "output_type": "stream",
          "name": "stdout",
          "text": [
            "0\t= Passo de tempo\n",
            "1\t= Passo de tempo\n",
            "2\t= Passo de tempo\n"
          ]
        }
      ]
    },
    {
      "cell_type": "code",
      "source": [
        "x_values = assemble(x).dat.data\n",
        "\n",
        "\n",
        "fig = plt.figure(figsize=(8, 6))\n",
        "ax = fig.add_subplot(111)\n",
        "\n",
        "\n",
        "ax.plot(x_values, solution_values[int(Total_time)-1], label='Solução do PV')\n",
        "\n",
        "ax.set_xlabel('x')\n",
        "ax.set_ylabel('Temperatura')\n",
        "ax.set_xlim(x_values.min(), x_values.max())  # Limitando o eixo x aos valores mínimos e máximos de x_values\n",
        "ax.legend(loc='best')\n",
        "\n",
        "plt.tight_layout()\n",
        "plt.show()\n"
      ],
      "metadata": {
        "colab": {
          "base_uri": "https://localhost:8080/",
          "height": 607
        },
        "id": "xgbx3MegXq6J",
        "outputId": "72c2800e-b62d-484e-f2a8-508d18071850"
      },
      "execution_count": 303,
      "outputs": [
        {
          "output_type": "display_data",
          "data": {
            "text/plain": [
              "<Figure size 800x600 with 1 Axes>"
            ],
            "image/png": "[encoded data removed]"
          },
          "metadata": {}
        }
      ]
    }
  ]
}